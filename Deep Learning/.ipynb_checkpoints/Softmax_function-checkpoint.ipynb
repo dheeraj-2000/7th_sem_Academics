{
 "cells": [
  {
   "cell_type": "code",
   "execution_count": 1,
   "metadata": {
    "colab": {},
    "colab_type": "code",
    "id": "_A3h9WAh-ozC"
   },
   "outputs": [
    {
     "name": "stderr",
     "output_type": "stream",
     "text": [
      "Using TensorFlow backend.\n"
     ]
    }
   ],
   "source": [
    "from keras.datasets import mnist\n",
    "import numpy as np\n",
    "(x_train, y_train), (x_test, y_test) = mnist.load_data()"
   ]
  },
  {
   "cell_type": "code",
   "execution_count": 2,
   "metadata": {
    "colab": {
     "base_uri": "https://localhost:8080/",
     "height": 91
    },
    "colab_type": "code",
    "id": "nQLP4GYwCWsl",
    "outputId": "62e972be-1e51-4c13-e5b8-a03015edd1fa"
   },
   "outputs": [
    {
     "name": "stdout",
     "output_type": "stream",
     "text": [
      "(60000, 784)\n",
      "(60000,)\n",
      "(10000,)\n",
      "(10000, 784)\n"
     ]
    }
   ],
   "source": [
    "x_train = x_train.reshape((len(x_train), np.prod(x_train.shape[1:])))\n",
    "x_test = x_test.reshape((len(x_test), np.prod(x_test.shape[1:])))\n",
    "print(x_train.shape)\n",
    "print(y_train.shape)\n",
    "print(y_test.shape)\n",
    "print(x_test.shape)"
   ]
  },
  {
   "cell_type": "code",
   "execution_count": 3,
   "metadata": {
    "colab": {},
    "colab_type": "code",
    "id": "SwXi4_byBSFW"
   },
   "outputs": [],
   "source": [
    "train_filter = np.where((y_train == 0 ) | (y_train == 4))\n",
    "test_filter = np.where((y_test == 0) | (y_test == 4))"
   ]
  },
  {
   "cell_type": "code",
   "execution_count": 4,
   "metadata": {
    "colab": {},
    "colab_type": "code",
    "id": "foVnbDCsD9WG"
   },
   "outputs": [],
   "source": [
    "X_train, Y_train = x_train[train_filter], y_train[train_filter]\n",
    "X_test, Y_test = x_test[test_filter], y_test[test_filter]\n",
    "Y_train = [1 if x==4 else x for x in Y_train] \n",
    "Y_train = np.array(Y_train).reshape(1,-1)\n",
    "Y_test = [1 if x==4 else x for x in Y_test] \n",
    "Y_test = np.array(Y_test).reshape(1,-1)"
   ]
  },
  {
   "cell_type": "code",
   "execution_count": 5,
   "metadata": {
    "colab": {
     "base_uri": "https://localhost:8080/",
     "height": 91
    },
    "colab_type": "code",
    "id": "kEHuYirKJFHU",
    "outputId": "e51dad32-7af2-48b0-e4a0-634679da07d4"
   },
   "outputs": [
    {
     "name": "stdout",
     "output_type": "stream",
     "text": [
      "(11765, 784)\n",
      "(1, 11765)\n",
      "(1962, 784)\n",
      "(1, 1962)\n"
     ]
    }
   ],
   "source": [
    "print(X_train.shape)\n",
    "print(Y_train.shape)\n",
    "print(X_test.shape)\n",
    "print(Y_test.shape)"
   ]
  },
  {
   "cell_type": "code",
   "execution_count": 6,
   "metadata": {
    "colab": {
     "base_uri": "https://localhost:8080/",
     "height": 81
    },
    "colab_type": "code",
    "id": "Et2v-ID0FxtA",
    "outputId": "47556746-87b7-448b-982e-eec6cffdc6ed"
   },
   "outputs": [
    {
     "data": {
      "text/plain": [
       "<Figure size 2000x400 with 20 Axes>"
      ]
     },
     "metadata": {},
     "output_type": "display_data"
    }
   ],
   "source": [
    "import matplotlib.pyplot as plt\n",
    "\n",
    "n = 20  # how many digits we will display\n",
    "plt.figure(figsize=(20, 4))\n",
    "for i in range(n):\n",
    "    # display original\n",
    "    ax = plt.subplot(2, n, i + 1)\n",
    "    plt.imshow(X_train[i].reshape(28, 28))\n",
    "    plt.gray()\n",
    "    ax.get_xaxis().set_visible(False)\n",
    "    ax.get_yaxis().set_visible(False)\n",
    "\n",
    "plt.show()\n"
   ]
  },
  {
   "cell_type": "code",
   "execution_count": 7,
   "metadata": {
    "colab": {
     "base_uri": "https://localhost:8080/",
     "height": 54
    },
    "colab_type": "code",
    "id": "_3J3-uM8Glbl",
    "outputId": "4bf38a54-504d-4a40-efd7-98632109e155"
   },
   "outputs": [
    {
     "name": "stdout",
     "output_type": "stream",
     "text": [
      "5923\n",
      "1\n"
     ]
    }
   ],
   "source": [
    "print(len(Y_train[np.where(Y_train==0)]))\n",
    "print(Y_train[0,15])"
   ]
  },
  {
   "cell_type": "code",
   "execution_count": 8,
   "metadata": {
    "colab": {
     "base_uri": "https://localhost:8080/",
     "height": 284
    },
    "colab_type": "code",
    "id": "G8XwsX8XHdut",
    "outputId": "734c6f99-31a3-484c-eb9c-02b5ce24a4ea"
   },
   "outputs": [
    {
     "data": {
      "text/plain": [
       "<matplotlib.image.AxesImage at 0x7fcc4b5c3518>"
      ]
     },
     "execution_count": 8,
     "metadata": {},
     "output_type": "execute_result"
    },
    {
     "data": {
      "image/png": "[encoded data removed]",
      "text/plain": [
       "<Figure size 432x288 with 1 Axes>"
      ]
     },
     "metadata": {
      "needs_background": "light"
     },
     "output_type": "display_data"
    }
   ],
   "source": [
    "XX_train = X_train.astype('float32') / 255.\n",
    "XX_test = X_test.astype('float32') / 255.\n",
    "plt.imshow(XX_train[1].reshape(28,28))"
   ]
  },
  {
   "cell_type": "code",
   "execution_count": 11,
   "metadata": {
    "colab": {},
    "colab_type": "code",
    "id": "8M0JLYr1L92u"
   },
   "outputs": [],
   "source": [
    "XX_train = XX_train.T\n",
    "XX_test = XX_test.T\n",
    "Y_train = Y_train.reshape(1,-1)\n",
    "Y_test = Y_test.reshape(1,-1)"
   ]
  },
  {
   "cell_type": "code",
   "execution_count": 12,
   "metadata": {
    "colab": {
     "base_uri": "https://localhost:8080/",
     "height": 36
    },
    "colab_type": "code",
    "id": "gHSaxQvnMSm6",
    "outputId": "d064a568-9b9c-43eb-9217-63398030cc9a"
   },
   "outputs": [
    {
     "name": "stdout",
     "output_type": "stream",
     "text": [
      "(784, 1962)\n"
     ]
    }
   ],
   "source": [
    "print(XX_test.shape)"
   ]
  },
  {
   "cell_type": "code",
   "execution_count": 13,
   "metadata": {
    "colab": {},
    "colab_type": "code",
    "id": "7juJo2awH5tF"
   },
   "outputs": [],
   "source": [
    "def initialize_param(d):\n",
    "  w = np.zeros((d,1))\n",
    "  b = 0\n",
    "  params = {\"w\": w,\"b\": b}\n",
    "  return params\n"
   ]
  },
  {
   "cell_type": "code",
   "execution_count": 14,
   "metadata": {
    "colab": {},
    "colab_type": "code",
    "id": "fp-bih9l-Lki"
   },
   "outputs": [],
   "source": [
    "def sigmoid(Z):\n",
    "      \n",
    "    A = 1/(1+np.exp(-Z))\n",
    "       \n",
    "    return A"
   ]
  },
  {
   "cell_type": "code",
   "execution_count": 15,
   "metadata": {
    "colab": {},
    "colab_type": "code",
    "id": "k0TksY_m-nzY"
   },
   "outputs": [],
   "source": [
    "def forward(params,X,Y):\n",
    "  w = params[\"w\"]\n",
    "  b = params[\"b\"]\n",
    "  m = X.shape[1]\n",
    "  A = sigmoid(np.dot(w.T,X) + b)\n",
    "  cost = (- 1 / m) * np.sum(Y * np.log(A) + (1 - Y) * (np.log(1 - A)))\n",
    "  return A,cost"
   ]
  },
  {
   "cell_type": "code",
   "execution_count": 16,
   "metadata": {
    "colab": {},
    "colab_type": "code",
    "id": "brLtqEGdIw84"
   },
   "outputs": [],
   "source": [
    "def backprop(X,Y,A):\n",
    "  m = X.shape[1]\n",
    "  dw = (1 / m) * np.dot(X,(A-Y).T)\n",
    "  db = (1 / m) * np.sum(A - Y)\n",
    "\n",
    "  return dw, db"
   ]
  },
  {
   "cell_type": "code",
   "execution_count": 17,
   "metadata": {
    "colab": {},
    "colab_type": "code",
    "id": "z6VL3_rHKCGJ"
   },
   "outputs": [],
   "source": [
    "def optimize(params, X, Y, num_iterations, l_rate):\n",
    "\n",
    "  w = params[\"w\"]\n",
    "  b = params[\"b\"]\n",
    "\n",
    "  costs = []\n",
    "  for i in range(num_iterations):\n",
    "    A,cost = forward(params,X,Y)\n",
    "    dw,db = backprop(X,Y,A)\n",
    "\n",
    "    params[\"w\"] = params[\"w\"] - l_rate * dw \n",
    "    params[\"b\"] = params[\"b\"] - l_rate * db\n",
    "    if (i%100==0):\n",
    "      print(\"Cost on {} iteration: {}\",i,cost,np.linalg.norm(dw),db)\n",
    "\n",
    "    costs.append(cost)\n",
    "  return params,costs\n"
   ]
  },
  {
   "cell_type": "code",
   "execution_count": 18,
   "metadata": {
    "colab": {},
    "colab_type": "code",
    "id": "dYjrTa5y87ws"
   },
   "outputs": [],
   "source": [
    "def predict(params,X):\n",
    "  w = params[\"w\"]\n",
    "  print(w.shape,X.shape)\n",
    "  b = params[\"b\"]\n",
    "  m = X.shape[1]\n",
    "  A = sigmoid(np.dot(w.T,X) + b)\n",
    "  return A"
   ]
  },
  {
   "cell_type": "code",
   "execution_count": 19,
   "metadata": {
    "colab": {},
    "colab_type": "code",
    "id": "8VsbqKXLK9rL"
   },
   "outputs": [],
   "source": [
    "def model(d, X_train, Y_train, X_test, Y_test, num_iter, l_rate):\n",
    "  params = initialize_param(d)\n",
    "  print(params[\"w\"].shape,\"pshape\")\n",
    "  params,costs = optimize(params, X_train, Y_train, num_iter, l_rate)\n",
    "  Y_hat_train = predict(params,XX_train)\n",
    "  Y_hat_test = predict(params,XX_test)\n",
    "  \n",
    "  print(\"train accuracy: {} %\".format(100 - np.mean(np.abs(Y_hat_train - Y_train)) * 100))\n",
    "  print(\"test accuracy: {} %\".format(100 - np.mean(np.abs(Y_hat_test - Y_test)) * 100))\n",
    "  return params,costs\n",
    "\n"
   ]
  },
  {
   "cell_type": "code",
   "execution_count": 20,
   "metadata": {
    "colab": {
     "base_uri": "https://localhost:8080/",
     "height": 203
    },
    "colab_type": "code",
    "id": "Ytw7pHDb-nUo",
    "outputId": "b5b3c9ae-c03f-4511-80e1-d4781ff5b6cb"
   },
   "outputs": [
    {
     "name": "stdout",
     "output_type": "stream",
     "text": [
      "(784, 1) pshape\n",
      "Cost on {} iteration: {} 0 0.6931471805599453 1.568900530685768 0.0034424139396515086\n",
      "Cost on {} iteration: {} 100 0.2600895441127583 0.5527276590667219 -0.03003821392353082\n",
      "Cost on {} iteration: {} 200 0.16814482659646032 0.33097917475520705 -0.017945845392873732\n",
      "Cost on {} iteration: {} 300 0.12870632592946846 0.23755666044382506 -0.0130311371012488\n",
      "Cost on {} iteration: {} 400 0.10650149183880532 0.18633895581768795 -0.010391681390080607\n",
      "(784, 1) (784, 11765)\n",
      "(784, 1) (784, 1962)\n",
      "train accuracy: 91.87579139596755 %\n",
      "test accuracy: 92.54075744236887 %\n"
     ]
    }
   ],
   "source": [
    "params,costs = model(784, XX_train, Y_train, XX_test, Y_test, 500, 0.005)"
   ]
  },
  {
   "cell_type": "code",
   "execution_count": null,
   "metadata": {},
   "outputs": [],
   "source": []
  }
 ],
 "metadata": {
  "colab": {
   "collapsed_sections": [],
   "name": "LogisticRegression.ipynb",
   "provenance": []
  },
  "kernelspec": {
   "display_name": "Python 3",
   "language": "python",
   "name": "python3"
  },
  "language_info": {
   "codemirror_mode": {
    "name": "ipython",
    "version": 3
   },
   "file_extension": ".py",
   "mimetype": "text/x-python",
   "name": "python",
   "nbconvert_exporter": "python",
   "pygments_lexer": "ipython3",
   "version": "3.6.8"
  }
 },
 "nbformat": 4,
 "nbformat_minor": 1
}
